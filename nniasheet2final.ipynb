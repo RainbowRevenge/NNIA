{
 "cells": [
  {
   "cell_type": "markdown",
   "metadata": {},
   "source": [
    "# Exercise Sheet 2: Linear Algebra and TensorFlow Basics (Deadline: 14 Nov 14:00)"
   ]
  },
  {
   "cell_type": "markdown",
   "metadata": {
    "collapsed": true
   },
   "source": [
    "# Linear Algebra (11 points)\n",
    "For theoretical tasks you are encouraged to write LaTeX. Jupyter notebooks support them simply by typing an expression between dollar signs or in the blocks like \\ begin{equation} \\ end{equation}.\n",
    "\n",
    "\n",
    "Alternatively, you can upload the solutions in the written form as images and paste them inside cells. But if you do this, make sure that the images have high quality, so we can read them without any problems."
   ]
  },
  {
   "cell_type": "markdown",
   "metadata": {},
   "source": [
    "### 1. Orthogonal vectors (1 point)\n",
    "Let $a, b$ be non-zero vectors in $R^n$. Show that $a^T b$ = 0 **if and only if** a and b are orthogonal vectors (i.e. angle between them equals $\\frac{\\pi}{2} + k \\pi$ radians).\n",
    "\n",
    "Hint: be careful to prove 2 directions: \n",
    "1.) $a^T b$ = 0 $\\implies$ orthogonality and 2.) orthogonality $\\implies$ $a^T b$ = 0.\n",
    "\n",
    "\n",
    "\n",
    "#### Direction 1: $a^T b$ = 0 $\\implies$ orthogonality\n",
    "\n",
    "$a^T b$ = 0\n",
    "\n",
    "$\\lVert \\mathbf{x} \\rVert_2 \\lVert \\mathbf{y} \\rVert_2 cos \\theta = 0 $ (Law of Cosines, see also Goodfellow 2.34)\n",
    "\n",
    "$cos \\theta = \\dfrac{0}{\\lVert \\mathbf{x} \\rVert_2 \\lVert \\mathbf{y} \\rVert_2} $\n",
    "\n",
    "$cos \\theta = 0 $\n",
    "\n",
    "$\\theta = \\frac{\\pi}{2} $\n",
    "\n",
    "a and b are thus orthogonal.\n",
    "\n",
    "\n",
    "#### Direction2: Orthogonality $\\implies$ $a^T b$ = 0.\n",
    "\n",
    "$a^T b = \\lVert \\mathbf{x} \\rVert_2 \\lVert \\mathbf{y} \\rVert_2 cos \\frac{\\pi}{2} $ (Law of Cosines, see also Goodfellow 2.34)\n",
    "\n",
    "$cos \\frac{\\pi}{2} = \\frac{a^T b}{\\lVert \\mathbf{x} \\rVert_2 \\lVert \\mathbf{y} \\rVert_2}$\n",
    "\n",
    "$0 = \\frac{a^T b}{\\lVert \\mathbf{x} \\rVert_2 \\lVert \\mathbf{y} \\rVert_2}$\n",
    "\n",
    "$a^T b = 0$\n",
    "\n",
    "### 2. Interpretation of matrix multiplication (2 points)\n",
    "Let \n",
    "$$\n",
    "A=\\begin{bmatrix} 2 & 4 \\\\ 4 & 2 \\\\ 2 & 0 \\end{bmatrix} \\ \\ \\ \\ \n",
    "B=\\begin{bmatrix} 0.6 & -0.8 \\\\ 0.8 & 0.6 \\end{bmatrix}\n",
    "$$\n",
    "a. Are the column vectors of B orthogonal? Orthonormal? Is B a rotation matrix? Justify your answers.(0.5 points)\n",
    "\n",
    "The column vectors are:\n",
    "\n",
    "Orthogonal because: $\\begin{bmatrix}0.6 \\\\ -0.8 \\end{bmatrix} \\cdot \\begin{bmatrix}0.8 \\\\ 0.6 \\end{bmatrix}$ = 0\n",
    "\n",
    "Orthonormal because: It is orthogonal and a Unit vector: $ \\sqrt{(0.6)^2 + (0.8)^2} = 1 $ and $\\sqrt{(-0.8)^2 + (0.6)^2} = 1 $\n",
    "\n",
    "B is a rotation matrix because $ B^T = B^{-1} => \\begin{bmatrix} 0.6 & 0.8 \\\\ -0.8 & 0.6 \\end{bmatrix} = 1* \\begin{bmatrix} 0.6 & 0.8 \\\\ -0.8 & 0.6 \\end{bmatrix}$ with determinant being 1\n",
    "\n",
    "\n",
    "\n",
    "\n",
    "b. Calculate $A \\cdot B$. (0.5 points)\n",
    "\n",
    "$A \\cdot B = \\begin{bmatrix} 4.4 & 0.8 \\\\ 4 & -2 \\\\ 1.2 & -1.6 \\end{bmatrix}$\n",
    "\n",
    "\n",
    "c. What is the interpretation of a matrix multiplication, when the column vectors of B are orthonormal (you may want to draw a simple picture visualizing row vectors of A and column vectors of B, but you don't need to submit it)? (1 point)\n",
    "\n",
    "In the given example, B is an orthogonal matrix. As a consequence, $B^T B = B B^T = I$. Multiplying an orthogonal matrix by a vector, does not change its length or angles. --> No idea what they are after here or what it means for matrix times matrix multiplication. Was mir auffällt: Euclidian norm rows in A und rows in C ist identisch (Wurzel 20, Wurzel 20, 4). Was heißt das dann? Länge bleibt.\n",
    "\n",
    "\n",
    "### 3. Property of $X^T X$ matrix (1 point)\n",
    "Let $X \\in R^{m×n}$ be a matrix obtained by stacking all training vectors (also called \"design matrix\"), like in the lecture. Obviously, it can be an arbritrary matrix. However a covariance matrix $C = X^T X$ has some interesting properties, namely it is always a positive semidefinite matrix ($v^T Cv \\geq 0$ for all non-zero $v \\in R^n$). Prove this statement.\n",
    "\n",
    "#### C is always positive:\n",
    "$v^T Cv = v^t (\\frac{1}{n} \\sum\\limits_{i=1}^n (X_{i} - \\overline{X})(X_{i} - \\overline{X})^T) v$\n",
    "\n",
    "$= \\frac{1}{n} \\sum\\limits_{i=1}^n v^T (X_{i} - \\overline{X})(X_{i} - \\overline{X})^T) v$\n",
    "\n",
    "$= \\frac{1}{n} \\sum\\limits_{i=1}^n ((X_{i} - \\overline{X})^T v) ((X_{i} - \\overline{X})^T v))$ Term is scalar, i.e. equal to its own transpose, and $(AB)^T = B^T A^T$\n",
    "\n",
    "$= \\frac{1}{n} \\sum\\limits_{i=1}^n ((X_{i} - \\overline{X})^T v))^2$\n",
    "\n",
    "$\\geq 0$\n",
    "\n",
    "\n",
    "#### C is always semidefinite:\n",
    "\n",
    "Hint: $v^T C v$ can be represented as a squared norm of some vector.\n",
    "\n",
    "\n",
    "\n",
    "### 4. Eigendecomposition (4 points)\n",
    "Consider the following matrix:\n",
    "$$\n",
    "M=\\begin{bmatrix}\n",
    "    1 & -1 & 0 \\\\\n",
    "    -1 & 2 & -1 \\\\\n",
    "    0 & -1 & 1\n",
    "  \\end{bmatrix}\n",
    "$$\n",
    "Is the matrix M:\n",
    "\n",
    "a. Symmetric? What does it imply for its eigendecomposition? (0.5 points)\n",
    "\n",
    "b. Singular? What does it imply for its eigendecomposition? (0.5 points)\n",
    "\n",
    "c. Find the eigendecomposition of M (3 points).\n",
    "\n",
    "\n",
    "\n",
    "\n",
    "### 5. Rayleigh-Ritz principle (3 points)\n",
    "On the lecture we saw that the exact solution for decoding matrix D in PCA problem is a matrix that contains the $l$ eigenvectors corresponding to the largest eigenvalues of $X^T X$, where X is a design matrix. But where does it come from?\n",
    "\n",
    "If you want to see full derivation of PCA, you can find it in Deep Learning Book, chapter 2.12. In this exercise we would like to focus only on Raleigh-Ritz principle, which allows to solve optimization problems of type $min_{||v||_2 = 1} v^T C v$ or $max_{||v||_2 = 1} v^T C v$ using eigendecomposition of C.\n",
    "\n",
    "So prove that $min_{||v||_2 = 1} v^T C v = \\lambda_{min}$, where $\\lambda_{min}$ is the smallest eigenvalue of C. For which vector $v$ this minimum is attained? (the proof for $max_{||v||_2 = 1} v^T C v = \\lambda_{max}$ is analogous)."
   ]
  },
  {
   "cell_type": "markdown",
   "metadata": {},
   "source": [
    "# TensorFlow (9 points)\n",
    "\n",
    "### 1. A simple computational graph in Tensorflow (2 + 1 = 3 points)\n",
    "To get started with TensorFlow we ask you to specify a very simple computational graph of the function $f(x) = x^2 + 2x + 5$ and also taking its derivative.\n",
    "If you don't know how to proceed, please study the example given on the lecture and also the official TenorFlow starting guide: https://www.tensorflow.org/get_started/get_started.\n",
    "\n",
    "This exercise requires around 10 lines of code, it is simple enough. However, it is very important to understand the notion of computational graph. \n",
    "\n",
    "Actually, this simple example will be a backbone for all neural networks in the future. All what we will need is to specify first the forward pass (f), and then take derivatives with respect to parameters (x), in order to update them, so they minimize the loss function f. But we will come back to this in several weeks."
   ]
  },
  {
   "cell_type": "code",
   "execution_count": 76,
   "metadata": {},
   "outputs": [
    {
     "name": "stdout",
     "output_type": "stream",
     "text": [
      "[  85.           83.20999146   81.44000244   79.68999481   77.96000671\n",
      "   76.25         74.55999756   72.89000702   71.23999786   69.61000061\n",
      "   68.           66.4099884    64.84000397   63.28999329   61.76000595\n",
      "   60.25         58.75999069   57.29000092   55.83999634   54.41000748\n",
      "   53.           51.61000061   50.24000549   48.88999939   47.55999756\n",
      "   46.25         44.9600029    43.69000244   42.43999481   41.20999908\n",
      "   40.           38.81000137   37.63999939   36.48999786   35.3599968\n",
      "   34.25         33.16000366   32.09000397   31.03999901   30.00999832\n",
      "   29.           28.01000214   27.04000282   26.08999825   25.15999985\n",
      "   24.25         23.36000061   22.49000168   21.63999748   20.80999756\n",
      "   20.           19.20999908   18.44000053   17.68999863   16.95999908\n",
      "   16.25         15.56000042   14.8900013    14.23999786   13.60999966\n",
      "   13.           12.4100008    11.84000015   11.29000092   10.75999928\n",
      "   10.25          9.76000023    9.28999901    8.84000015    8.40999985\n",
      "    8.            7.61000061    7.23999977    6.89000034    6.55999947\n",
      "    6.25          5.96000004    5.69000006    5.44000006    5.20999956\n",
      "    5.            4.80999994    4.63999987    4.48999977    4.36000013\n",
      "    4.25          4.15999985    4.09000015    4.03999996    4.01000023\n",
      "    4.            4.01000023    4.03999996    4.09000015    4.15999985\n",
      "    4.25          4.36000013    4.48999977    4.63999987    4.80999994\n",
      "    5.            5.21000004    5.44000006    5.69000006    5.96000004\n",
      "    6.25          6.55999994    6.88999987    7.23999977    7.60999966\n",
      "    8.            8.40999985    8.84000015    9.28999996    9.76000023\n",
      "   10.25         10.76000023   11.28999996   11.84000015   12.40999985\n",
      "   13.           13.6099987    14.23999977   14.88999939   15.56000042\n",
      "   16.25         16.95999908   17.69000053   18.43999863   19.21000099\n",
      "   20.           20.80999947   21.6400013    22.48999977   23.36000061\n",
      "   24.25         25.15999985   26.09000015   27.03999901   28.01000214\n",
      "   29.           30.00999832   31.0399971    32.09000397   33.15999985\n",
      "   34.25         35.36000061   36.48999786   37.63999939   38.81000137\n",
      "   40.           41.20999908   42.43999481   43.69000244   44.9600029\n",
      "   46.25         47.55999756   48.88999939   50.24000549   51.61000061\n",
      "   53.           54.40999985   55.83999634   57.29000092   58.76000214\n",
      "   60.25         61.75999832   63.28999329   64.84000397   66.41000366\n",
      "   68.           69.61000061   71.23999786   72.88999939   74.56000519\n",
      "   76.25         77.95999908   79.68999481   81.44000244   83.20999908\n",
      "   85.           86.81001282   88.63999939   90.48999786   92.35998535\n",
      "   94.25         96.16000366   98.08999634  100.04000092  102.00999451\n",
      "  104.          106.01000977  108.04000092  110.09000397  112.1599884\n",
      "  114.25        116.36000061  118.48999786  120.63999939  122.80999756\n",
      "  125.        ]\n",
      "[-18.         -17.79999924 -17.60000038 -17.39999962 -17.20000076 -17.\n",
      " -16.79999924 -16.60000038 -16.39999962 -16.20000076 -16.         -15.79999924\n",
      " -15.60000038 -15.39999962 -15.20000076 -15.         -14.79999924\n",
      " -14.60000038 -14.39999962 -14.20000076 -14.         -13.80000019\n",
      " -13.60000038 -13.39999962 -13.19999981 -13.         -12.80000019\n",
      " -12.60000038 -12.39999962 -12.19999981 -12.         -11.80000019\n",
      " -11.60000038 -11.39999962 -11.19999981 -11.         -10.80000019\n",
      " -10.60000038 -10.39999962 -10.19999981 -10.          -9.80000019\n",
      "  -9.60000038  -9.39999962  -9.19999981  -9.          -8.80000019\n",
      "  -8.60000038  -8.39999962  -8.19999981  -8.          -7.80000019\n",
      "  -7.60000038  -7.39999962  -7.19999981  -7.          -6.80000019\n",
      "  -6.60000038  -6.39999962  -6.19999981  -6.          -5.80000019\n",
      "  -5.5999999   -5.4000001   -5.19999981  -5.          -4.80000019\n",
      "  -4.5999999   -4.4000001   -4.19999981  -4.          -3.80000019\n",
      "  -3.5999999   -3.4000001   -3.19999981  -3.          -2.80000019\n",
      "  -2.5999999   -2.4000001   -2.19999981  -2.          -1.79999995\n",
      "  -1.5999999   -1.4000001   -1.20000005  -1.          -0.79999995\n",
      "  -0.5999999   -0.4000001   -0.20000005   0.           0.20000005\n",
      "   0.39999998   0.60000002   0.79999995   1.           1.20000005\n",
      "   1.39999998   1.60000002   1.79999995   2.           2.20000005\n",
      "   2.4000001    2.5999999    2.79999995   3.           3.20000005\n",
      "   3.4000001    3.5999999    3.79999995   4.           4.19999981\n",
      "   4.4000001    4.5999999    4.80000019   5.           5.19999981\n",
      "   5.4000001    5.5999999    5.80000019   6.           6.19999981\n",
      "   6.4000001    6.5999999    6.80000019   7.           7.19999981\n",
      "   7.4000001    7.5999999    7.80000019   8.           8.19999981\n",
      "   8.39999962   8.60000038   8.80000019   9.           9.19999981\n",
      "   9.39999962   9.60000038   9.80000019  10.          10.19999981\n",
      "  10.39999962  10.60000038  10.80000019  11.          11.19999981\n",
      "  11.39999962  11.60000038  11.80000019  12.          12.19999981\n",
      "  12.39999962  12.60000038  12.80000019  13.          13.19999981\n",
      "  13.39999962  13.60000038  13.80000019  14.          14.19999981\n",
      "  14.39999962  14.60000038  14.80000019  15.          15.19999981\n",
      "  15.39999962  15.60000038  15.80000019  16.          16.20000076\n",
      "  16.39999962  16.60000038  16.79999924  17.          17.20000076\n",
      "  17.39999962  17.60000038  17.79999924  18.          18.20000076\n",
      "  18.39999962  18.60000038  18.79999924  19.          19.20000076\n",
      "  19.39999962  19.60000038  19.79999924  20.          20.20000076\n",
      "  20.39999962  20.60000038  20.79999924  21.          21.20000076\n",
      "  21.39999962  21.60000038  21.79999924  22.        ]\n"
     ]
    },
    {
     "data": {
      "text/plain": [
       "[<matplotlib.lines.Line2D at 0x12649fc18>]"
      ]
     },
     "execution_count": 76,
     "metadata": {},
     "output_type": "execute_result"
    },
    {
     "data": {
      "image/png": "[encoded data removed]",
      "text/plain": [
       "<matplotlib.figure.Figure at 0x125ce89e8>"
      ]
     },
     "metadata": {},
     "output_type": "display_data"
    }
   ],
   "source": [
    "%matplotlib inline\n",
    "import tensorflow as tf\n",
    "import matplotlib.pyplot as plt\n",
    "\n",
    "\n",
    "### Define a simple comp. graph (note that all its components are special TensorFlow objects)\n",
    "# Specify an input x to the comp. graph\n",
    "\n",
    "x = tf.placeholder(tf.float32)\n",
    "\n",
    "# Specify f(x) = x^2 + 2x + 5 \n",
    "f = x ** 2 + 2 * x + 5\n",
    "\n",
    "# Take derivative of f with respect to x. That will be very important in the future, since you will only\n",
    "# need to specify forward pass of your neural network, and all derivatives will be determined automatically by \n",
    "# TensorFlow.\n",
    "\n",
    "#d = tf.gradients(f, x)\n",
    "d = 2 * x + 2\n",
    "\n",
    "### Execute the comp. graph\n",
    "# Create a TensorFlow session\n",
    "sess = tf.Session()\n",
    "\n",
    "# Evaluate the function value and its derivative for values from -10 to 10 with step 0.1\n",
    "f_values = sess.run(f, {x : [v/10 for v in range(-100,101)]})\n",
    "d_values = sess.run(d, {x : [v/10 for v in range(-100,101)]})\n",
    "print(f_values)\n",
    "print(d_values)\n",
    "\n",
    "# Evaluate values of f and its derivative based on a particular input x\n",
    "f_100 = sess.run(f, {x: 100})\n",
    "d_100 = sess.run(f, {x: 100})\n",
    "\n",
    "# Plot the function f (use matplotlib library)\n",
    "plt.plot(f_values)\n",
    "\n",
    "# Plot the derivative of the function f\n",
    "plt.plot(d_values)\n",
    "\n",
    "\n"
   ]
  },
  {
   "cell_type": "markdown",
   "metadata": {},
   "source": [
    "#### Tensorflow Questions:\n",
    "1.) In the exercise above x should be a TF placeholder, but f is a TF tensor. What is the difference between a placeholder and other tensors in computational graph? And how TF Variable differs from tensors? (0.5 point)\n",
    "\n",
    "A TF placeholder is a dummy node, i.e. an entry point to the computational graph for data to be provided later. Normal TF tensors just consist of a set of primitive values shaped into an array. TF variables are in-memory buffers containing tensors: Unlike tensors, they only hold values after being explicitly initialized.\n",
    "\n",
    "\n",
    "2.) What does tf.Session().run(...) accept as an argument and what does it return? What is the fundamental difference between these 2 types of objects? (0.5 point)\n",
    "\n",
    "tf.Session().run(...) accepts TF nodes and returns a value of the same shape: A single value if the argument was a single graph element, a list in case of a list, a dictionary with the same keys in case of a dictionary. The fundamental difference between before and after tf.Session().run(...) then is evaluation. The method is one step in an overall TF computation that runs the graph fragments necessary to excute every operation and to evaluate every tensor\n",
    "in the argument it receives."
   ]
  },
  {
   "cell_type": "markdown",
   "metadata": {},
   "source": [
    "### 2. A pure Python implementation (1 point)\n",
    "Please do the same, but in pure Python, calculating the expression for the derivative by hand. There is no need to use NumPy library, since we deal with 1-dimensional x (0.5 point). "
   ]
  },
  {
   "cell_type": "code",
   "execution_count": 160,
   "metadata": {},
   "outputs": [
    {
     "data": {
      "text/plain": [
       "[<matplotlib.lines.Line2D at 0x13a8d4940>]"
      ]
     },
     "execution_count": 160,
     "metadata": {},
     "output_type": "execute_result"
    },
    {
     "data": {
      "image/png": "[encoded data removed]",
      "text/plain": [
       "<matplotlib.figure.Figure at 0x139e5f4a8>"
      ]
     },
     "metadata": {},
     "output_type": "display_data"
    }
   ],
   "source": [
    "# Evaluate the function value and its derivative for values from -10 to 10 with step 0.1\n",
    "\n",
    "# Define f\n",
    "def f(x):\n",
    "    return x ** 2 + 2 * x + 5\n",
    "\n",
    "# Define f_derivative_val\n",
    "def f_derivative_val(x):\n",
    "    return 2 * x + 2 \n",
    "\n",
    "# Plot the function f\n",
    "f_vals = [f(v/10) for v in range(-100,101)]\n",
    "plt.plot(f_vals)\n",
    "\n",
    "# Plot the derivative of the function f\n",
    "f_derivative_vals = [f_derivative_val(v/10) for v in range(-100,101)]\n",
    "plt.plot(f_derivative_vals)"
   ]
  },
  {
   "cell_type": "markdown",
   "metadata": {},
   "source": [
    "### 3. A more complicated computational graph (5 points)\n",
    "Okay, you could easily take the derivative of $f(x) = x^2 + 2x + 5$ by hand. But what if you need to take the derivative of the function $f(x) = \\sigma(-6 \\sigma (x + 5 x^{-2} + 3 x^{-3}) + 2 \\sigma (-x + 4 x^{-2}))$ (where $\\sigma = \\frac{1}{1 + exp(-x)}$) with respect to x?\n",
    "It resembles a neural network much more than the previous example.\n",
    "Please, implement it in TensorFlow (0.5 point) and in pure Python (0.5 point) in the same way as before (but using new cells with the code below). \n",
    "\n",
    "Note that in pure Python implementation you will need to somehow overcome the numerical errors for small values of x (roughly from -0.1 to 0.1). You can just skip these values."
   ]
  },
  {
   "cell_type": "markdown",
   "metadata": {},
   "source": [
    "For pure Python implementation you will need to derive the derivative by hand (3 points). Please write down your derivation for the new $f(x)$ (you are encouraged to write LaTeX for them):\n",
    "\n",
    "The following variables are used to simplify the derivation and make everything more readable:\n",
    "\n",
    "$a = (-6 \\sigma (x + 5 x^{-2} + 3 x^{-3})$\n",
    "\n",
    "$b = 2 \\sigma (-x + 4 x^{-2}))$\n",
    "\n",
    "For the quotient we get after applying the quotient rule right at the beginning of the derivation: $q = \\left(\\mathrm{e}^{-x}+1\\right)^2 $\n",
    "\n",
    "$\\frac{df}{dx}$ = $ \\frac{(\\frac{df}{dx}[a+b] * (\\mathrm{e}^{-x}+1)) - ((a+b) * \\frac{df}{dx} [\\mathrm{e}^{-x}+1])} {q}$ \n",
    "\n",
    "$=  \\frac{(\\frac{(-6 \\frac{df}{dx}[x + 5x^{-2} + 3x^{-3}] * (\\mathrm{e}^{-x}+1) - (x + 5x^{-2} + 3x^{-3}) * \\frac{df}{dx} [\\mathrm{e}^{-x}+1])}{q}) + (\\frac{(2 \\frac{df}{dx}[-x + 4x^{-2}] * (\\mathrm{e}^{-x}+1) - (-x + 4x^{-2}) * \\frac{df}{dx} [\\mathrm{e}^{-x}+1])}{q}) * (\\mathrm{e}^{-x}+1) - (\\mathrm{e}^{-x} * \\frac{df}{dx}[-x] + 0) * (a+b)} {q} $\n",
    "\n",
    "$= \\frac{\\mathrm{e}^{-x} * (a+b) + (\\mathrm{e}^{-x} +1) * (-6*(\\frac{(\\frac{df}{dx}[x] + 5* \\frac{df}{dx}[x^{-2}] + 3* \\frac{df}{dx}[x^{-3}])*(\\mathrm{e}^{-x}+1)-(\\frac{df}{dx}[\\mathrm{e}^{-x}] + \\frac{df}{dx}[1]) * (x + 5x^{-2} + 3 x^{-3}))}{q}) + 2* (\\frac{((4 * \\frac{df}{dx}[x^{-2}] - \\frac{df}{dx}[x])*(\\mathrm{e}^{-x}+1)-(\\frac{df}{dx}[\\mathrm{e}^{-x}] + \\frac{df}{dx}[\\frac{df}{dx}[1]) * (4x^{-2} - x))}{q}))}{q} $\n",
    "\n",
    "$= \\frac{\\mathrm{e}^{-x} * (a+b) + (\\mathrm{e}^{-x} +1) * (-6*(\\frac{(1 + 5* (-2) * x^{-3} + 3* (-3) * x^{-4})*(\\mathrm{e}^{-x} * (\\frac{df}{dx}[x] + 0) * (x + 5x^{-2} + 3 x^{-3}))}{q}) + 2 * (\\frac{(4 * (-2) * x^{-3} -1) * (\\mathrm{e}^{-x}+1)-(\\mathrm{e}^{-x} * \\frac{df}{dx}[-x] + 0) * (4x^{-2} - x))}{q}))}{q} $\n",
    "\n",
    "$= \\frac{\\mathrm{e}^{-x} * (a+b) + (\\mathrm{e}^{-x} +1) * (-6*(\\frac{(-10x^{-3} - 9 x^{-4} + 1)*(\\mathrm{e}^{-x} +1) + (x + 5x^{-2} + 3 x^{-3}) * \\mathrm{e}^{-x}}{q}) + 2 * \\frac{((-8x^{-3} -1) * (\\mathrm{e}^{-x} +1) + (4x^{-2} - x) * \\mathrm{e}^{-x})}{q} }{q} $\n",
    "\n",
    "Mit sigma als Funktion:\n",
    "\n",
    "Use following variables and their derivates:\n",
    "\n",
    "$\\frac{d}{dx}[\\sigma] = - \\frac{\\frac{d}{dx}[exp(-x)+1]}{(exp(-x)+1)^2}$ | Reciprocal rule \n",
    "\n",
    "$ = - \\frac{\\frac{d}{dx}[exp(-x)]+0}{(exp(-x)+1)^2}$\n",
    "\n",
    "$ = - \\frac{exp(-x)*\\frac{d}{dx}[-x]}{(exp(-x)+1)^2}$  | Chain rule\n",
    "\n",
    "$ = \\frac{exp(x)}{(exp(x)+1)^2}$\n",
    "\n",
    "$ a = 2 \\sigma (-x + 4x^{-2})$\n",
    "\n",
    "$ b = -6 \\sigma (x + 5x^{-2} + 3x^{-3})$\n",
    "\n",
    "$\\frac{d}{dx}[a] = 2(  \\frac{d}{dx}[\\sigma](-x + 4x^{-2}) * (-1-8x^{-3}) )$ | chain rule \n",
    "\n",
    "$\\frac{d}{dx}[b] = - 6(  \\frac{d}{dx}[\\sigma] (x + 5x^{-2} + 3x^{-3}) * (1-10x^{-3}-9x^{-4}) )$ | chain rule\n",
    "\n",
    "Using those we get:\n",
    "\n",
    "\n",
    "\n",
    "$\\frac{df}{dx} = \\frac{d}{dx}[ \\sigma(a+b)](\\frac{d}{dx}[a+b])$\n",
    "\n",
    "$ = \\frac{d}{dx}[ \\sigma](a+b)(\\frac{d}{dx}[a]+\\frac{d}{dx}[b])$\n",
    "\n",
    "\n",
    "\n",
    "\n",
    "\n",
    "\n",
    "\n",
    "\n",
    "The derived expression for $\\frac{df}{dx}$ should produce exactly the same values (up to the float type precision) as TensorFlow derivative.\n",
    "\n"
   ]
  },
  {
   "cell_type": "code",
   "execution_count": 1,
   "metadata": {
    "scrolled": false
   },
   "outputs": [
    {
     "name": "stdout",
     "output_type": "stream",
     "text": [
      "[ 0.88075793  0.88075376  0.88074923  0.88074416  0.8807385   0.88073242\n",
      "  0.88072556  0.88071799  0.88070959  0.88070023  0.88069004  0.88067865\n",
      "  0.88066614  0.88065225  0.88063687  0.88061988  0.88060111  0.88058025\n",
      "  0.88055718  0.88053173  0.88050354  0.88047224  0.88043773  0.88039947\n",
      "  0.88035715  0.88031018  0.88025826  0.88020086  0.88013715  0.88006657\n",
      "  0.87998837  0.87990177  0.8798058   0.87969953  0.87958175  0.87945098\n",
      "  0.87930614  0.87914544  0.87896711  0.87876934  0.87854981  0.87830603\n",
      "  0.87803531  0.87773454  0.87740028  0.87702858  0.87661511  0.87615502\n",
      "  0.87564272  0.87507188  0.87443548  0.87372553  0.87293285  0.87204707\n",
      "  0.87105638  0.86994714  0.86870384  0.8673085   0.86574048  0.86397588\n",
      "  0.86198652  0.85973984  0.85719752  0.85431451  0.85103685  0.84730101\n",
      "  0.84303045  0.83813316  0.8324976   0.82598811  0.81843871  0.80964524\n",
      "  0.79935586  0.7872588   0.77296865  0.75600982  0.73580045  0.71164125\n",
      "  0.68271679  0.64812762  0.60698068  0.55857599  0.50272423  0.44018456\n",
      "  0.37309027  0.30507207  0.24073523  0.18447146  0.13916895  0.10564832\n",
      "  0.08319273  0.07101485  0.07160974  0.11051992  0.46852183  0.87370014\n",
      "  0.88079697  0.88079703  0.88079703  0.88079703  0.88079703  0.01798621\n",
      "  0.01798621  0.01798621  0.01798621  0.0179862   0.01798525  0.01796597\n",
      "  0.01783576  0.01738581  0.0163972   0.0148455   0.0129663   0.01109155\n",
      "  0.00945514  0.0081388   0.00712303  0.00634973  0.00575836  0.00529924\n",
      "  0.00493541  0.00464059  0.00439649  0.00419039  0.00401347  0.00385951\n",
      "  0.00372406  0.0036039   0.00349663  0.0034004   0.00331378  0.00323561\n",
      "  0.00316492  0.00310091  0.00304291  0.0029903   0.00294256  0.00289923\n",
      "  0.00285989  0.00282417  0.00279174  0.00276228  0.00273553  0.00271124\n",
      "  0.00268917  0.00266914  0.00265095  0.00263443  0.00261943  0.00260581\n",
      "  0.00259345  0.00258223  0.00257205  0.0025628   0.00255441  0.00254679\n",
      "  0.00253988  0.00253361  0.00252792  0.00252276  0.00251808  0.00251383\n",
      "  0.00250998  0.00250649  0.00250332  0.00250044  0.00249784  0.00249547\n",
      "  0.00249333  0.00249139  0.00248963  0.00248803  0.00248658  0.00248527\n",
      "  0.00248408  0.00248301  0.00248203  0.00248114  0.00248034  0.00247961\n",
      "  0.00247895  0.00247836  0.00247782  0.00247733  0.00247688  0.00247648\n",
      "  0.00247612  0.00247579  0.00247549  0.00247522  0.00247497  0.00247475\n",
      "  0.00247455  0.00247437  0.0024742   0.00247405  0.00247392  0.0024738\n",
      "  0.00247368  0.00247358  0.00247349]\n",
      "[ -3.93431001e-05  -4.35109214e-05  -4.81214374e-05  -5.32217891e-05\n",
      "  -5.88642797e-05  -6.51069204e-05  -7.20136522e-05  -7.96554523e-05\n",
      "  -8.81111628e-05  -9.74678187e-05  -1.07822016e-04  -1.19280790e-04\n",
      "  -1.31962443e-04  -1.45998973e-04  -1.61535543e-04  -1.78734452e-04\n",
      "  -1.97774585e-04  -2.18854446e-04  -2.42195703e-04  -2.68042291e-04\n",
      "  -2.96666840e-04  -3.28370865e-04  -3.63490224e-04  -4.02397505e-04\n",
      "  -4.45507030e-04  -4.93279658e-04  -5.46227966e-04  -6.04922476e-04\n",
      "  -6.69999339e-04  -7.42165023e-04  -8.22209986e-04  -9.11013922e-04\n",
      "  -1.00956007e-03  -1.11894694e-03  -1.24040048e-03  -1.37529522e-03\n",
      "  -1.52516831e-03  -1.69174524e-03  -1.87696423e-03  -2.08299630e-03\n",
      "  -2.31229188e-03  -2.56760907e-03  -2.85206176e-03  -3.16917012e-03\n",
      "  -3.52291437e-03  -3.91782308e-03  -4.35903436e-03  -4.85241041e-03\n",
      "  -5.40464371e-03  -6.02339860e-03  -6.71748491e-03  -7.49704940e-03\n",
      "  -8.37380998e-03  -9.36137419e-03  -1.04755489e-02  -1.17348330e-02\n",
      "  -1.31609216e-02  -1.47793498e-02  -1.66203976e-02  -1.87199991e-02\n",
      "  -2.11211443e-02  -2.38754638e-02  -2.70453095e-02  -3.07063721e-02\n",
      "  -3.49510387e-02  -3.98926847e-02  -4.56712581e-02  -5.24603017e-02\n",
      "  -6.04760088e-02  -6.99888244e-02  -8.13379213e-02  -9.49491262e-02\n",
      "  -1.11356109e-01  -1.31223515e-01  -1.55369431e-01  -1.84776217e-01\n",
      "  -2.20576108e-01  -2.63971210e-01  -3.16031158e-01  -3.77270877e-01\n",
      "  -4.46887970e-01  -5.21597624e-01  -5.94249845e-01  -6.53019905e-01\n",
      "  -6.82728350e-01  -6.69746876e-01  -6.09431505e-01  -5.10926604e-01\n",
      "  -3.93853784e-01  -2.77994573e-01  -1.72852397e-01  -6.82017207e-02\n",
      "   1.06532931e-01   9.40047979e-01   7.57074261e+00   4.53249156e-01\n",
      "   1.34355478e-05   2.29185113e-18              nan              nan\n",
      "              nan   0.00000000e+00   0.00000000e+00  -7.07275251e-19\n",
      "  -9.22174975e-11  -4.26025650e-07  -3.65872875e-05  -4.91885585e-04\n",
      "  -2.47886055e-03  -6.92665065e-03  -1.29003264e-02  -1.77069511e-02\n",
      "  -1.92865618e-02  -1.78115256e-02  -1.47915464e-02  -1.15788523e-02\n",
      "  -8.83916859e-03  -6.72971969e-03  -5.18062897e-03  -4.06301394e-03\n",
      "  -3.25695984e-03  -2.66942754e-03  -2.23353691e-03  -1.90287968e-03\n",
      "  -1.64579542e-03  -1.44082191e-03  -1.27341074e-03  -1.13366498e-03\n",
      "  -1.01479865e-03  -9.12100135e-04  -8.22255039e-04  -7.42881908e-04\n",
      "  -6.72232884e-04  -6.08995499e-04  -5.52154845e-04  -5.00906084e-04\n",
      "  -4.54595662e-04  -4.12679394e-04  -3.74696043e-04  -3.40247236e-04\n",
      "  -3.08986055e-04  -2.80605367e-04  -2.54832208e-04  -2.31422542e-04\n",
      "  -2.10157072e-04  -1.90837673e-04  -1.73285924e-04  -1.57339615e-04\n",
      "  -1.42852150e-04  -1.29690510e-04  -1.17733631e-04  -1.06871790e-04\n",
      "  -9.70052934e-05  -8.80433072e-05  -7.99035624e-05  -7.25111240e-05\n",
      "  -6.57978526e-05  -5.97018006e-05  -5.41665540e-05  -4.91410174e-05\n",
      "  -4.45785554e-05  -4.04368475e-05  -3.66773747e-05  -3.32651362e-05\n",
      "  -3.01683285e-05  -2.73579826e-05  -2.48078177e-05  -2.24939467e-05\n",
      "  -2.03946020e-05  -1.84900491e-05  -1.67623766e-05  -1.51952390e-05\n",
      "  -1.37738252e-05  -1.24846947e-05  -1.13156002e-05  -1.02554550e-05\n",
      "  -9.29416183e-06  -8.42255577e-06  -7.63232310e-06  -6.91590776e-06\n",
      "  -6.26646352e-06  -5.67775851e-06  -5.14414432e-06  -4.66048687e-06\n",
      "  -4.22214089e-06  -3.82487542e-06  -3.46486036e-06  -3.13862256e-06\n",
      "  -2.84300245e-06  -2.57514125e-06  -2.33244009e-06  -2.11254724e-06\n",
      "  -1.91332947e-06  -1.73284764e-06  -1.56934709e-06  -1.42123281e-06\n",
      "  -1.28706472e-06  -1.16553451e-06  -1.05545246e-06  -9.55746827e-07\n",
      "  -8.65438835e-07]\n"
     ]
    },
    {
     "data": {
      "text/plain": [
       "[<matplotlib.lines.Line2D at 0x111057978>]"
      ]
     },
     "execution_count": 1,
     "metadata": {},
     "output_type": "execute_result"
    },
    {
     "data": {
      "image/png": "[encoded data removed]",
      "text/plain": [
       "<matplotlib.figure.Figure at 0x110f4f358>"
      ]
     },
     "metadata": {},
     "output_type": "display_data"
    }
   ],
   "source": [
    "import numpy as np\n",
    "%matplotlib inline\n",
    "import tensorflow as tf\n",
    "import matplotlib.pyplot as plt\n",
    "# Please paste the code from your above TensorFlow implementation, \n",
    "# but specify the new f(x) and produce the corresponding plots\n",
    "z = tf.placeholder(tf.float32)\n",
    "\n",
    "# Specify f(x)\n",
    "#First define sigmoid helper function:\n",
    "def sigmoid (x):\n",
    "    return 1/(1 + tf.exp(-x))\n",
    "\n",
    "f = sigmoid(-6* sigmoid(z + 5 * z ** -2 + 3 * z ** -3) + 2 * sigmoid(-z + 4 * z ** -2))\n",
    "\n",
    "# Take derivative of f with respect to x. That will be very important in the future, since you will only\n",
    "# need to specify forward pass of your neural network, and all derivatives will be determined automatically by \n",
    "# TensorFlow.\n",
    "\n",
    "d = tf.gradients(f,z)[0]\n",
    "\n",
    "### Execute the comp. graph\n",
    "# Create a TensorFlow session\n",
    "sess = tf.Session()\n",
    "\n",
    "# Evaluate the function value and its derivative for values from -10 to 10 with step 0.1\n",
    "x_vals = np.arange(-10, 10.01, 0.1)\n",
    "f_values = sess.run(f, feed_dict = {z: np.arange(-10, 10.01, 0.1)})\n",
    "d_values = sess.run(d, feed_dict = {z: np.arange(-10, 10.01, 0.1)})\n",
    "print(f_values)\n",
    "print(d_values)\n",
    "\n",
    "# Plot the function f (use matplotlib library)\n",
    "plt.plot(x_vals, f_values)\n",
    "# Plot the derivative of the function f\n",
    "plt.plot(x_vals, d_values, color='m')\n"
   ]
  },
  {
   "cell_type": "code",
   "execution_count": 2,
   "metadata": {},
   "outputs": [
    {
     "data": {
      "text/plain": [
       "[<matplotlib.lines.Line2D at 0x1114bc470>]"
      ]
     },
     "execution_count": 2,
     "metadata": {},
     "output_type": "execute_result"
    },
    {
     "data": {
      "image/png": "[encoded data removed]",
      "text/plain": [
       "<matplotlib.figure.Figure at 0x1114bc278>"
      ]
     },
     "metadata": {},
     "output_type": "display_data"
    }
   ],
   "source": [
    "import numpy as np\n",
    "from math import e\n",
    "\n",
    "# Define f and f_derivative_val\n",
    "def sigmoid(x):\n",
    "    return 1/(1 + e**-x)\n",
    "\n",
    "def f(z):\n",
    "    return sigmoid(-6* sigmoid(z + 5 * z ** -2 + 3 * z ** -3) + 2 * sigmoid(-z + 4 * z ** -2))\n",
    "    \n",
    "# Define f_derivative_val\n",
    "def f_derivative_val(x):\n",
    "    return -(2* ((4 * x**4 - 22 * x - 27) * e**x + 8 * x**5 + 4 * x**4 + 22 * x**2 - 4 * x - 27) * e**(2*x))/(x**4 * (e**x + 1)**3) \n",
    "\n",
    "# Plot the function f\n",
    "x_vals = np.append(np.arange(-10, -0.1, 0.1), np.arange(0.2, 10.01, 0.1))\n",
    "#print(x_vals)\n",
    "f_vals = f(x_vals)\n",
    "#print(f_vals)\n",
    "plt.plot(x_vals, f_vals, color='b')\n",
    "\n",
    "# Plot the derivative of the function f\n",
    "f_derivative_vals = f_derivative_val(x_vals)\n",
    "plt.ylim(ymax=8)\n",
    "plt.plot(x_vals, f_derivative_vals, color='m')"
   ]
  },
  {
   "cell_type": "code",
   "execution_count": 7,
   "metadata": {},
   "outputs": [
    {
     "name": "stderr",
     "output_type": "stream",
     "text": [
      "/Users/mo/miniconda3/envs/nnia/lib/python3.6/site-packages/ipykernel_launcher.py:9: RuntimeWarning: overflow encountered in square\n",
      "  if __name__ == '__main__':\n"
     ]
    },
    {
     "data": {
      "text/plain": [
       "[<matplotlib.lines.Line2D at 0x11b26a978>]"
      ]
     },
     "execution_count": 7,
     "metadata": {},
     "output_type": "execute_result"
    },
    {
     "data": {
      "image/png": "[encoded data removed]",
      "text/plain": [
       "<matplotlib.figure.Figure at 0x11b16a400>"
      ]
     },
     "metadata": {},
     "output_type": "display_data"
    }
   ],
   "source": [
    "import numpy as np\n",
    "from math import e\n",
    "\n",
    "# Define f and f_derivative_val\n",
    "def sigmoid(x):\n",
    "    return 1/(1 + e**-x)\n",
    "\n",
    "def sigmoid_der(x):\n",
    "    return e**x/(((e**x)+1)**2)\n",
    "\n",
    "def f(z):\n",
    "    return sigmoid(-6* sigmoid(z + 5 * z ** -2 + 3 * z ** -3) + 2 * sigmoid(-z + 4 * z ** -2))\n",
    "    \n",
    "# Define f_derivative_val\n",
    "def f_derivative_val(x):\n",
    "\n",
    "    a = 2* sigmoid(-x+4*x**(-2))\n",
    "    b = -6 * (sigmoid(x+5*x**(-2)+3*x**(-3)))\n",
    "    \n",
    "    a_der = 2 * sigmoid_der(-x+4*x**(-2))*(- 1 - 8 * x**(-3))\n",
    "    b_der = -6 * (sigmoid_der(x+5*x**(-2)+3*x**(-3))) * (1-10 * x ** (-3) - 9*x**(-4))\n",
    "    \n",
    "    return sigmoid_der(a+b) * (a_der + b_der)\n",
    "\n",
    "# Plot the function f\n",
    "x_vals = np.append(np.arange(-10, -0.1, 0.1), np.arange(0.2, 10.01, 0.1))\n",
    "#print(x_vals)\n",
    "f_vals = f(x_vals)\n",
    "#print(f_vals)\n",
    "plt.plot(x_vals, f_vals, color='b')\n",
    "\n",
    "# Plot the derivative of the function f\n",
    "f_derivative_vals = f_derivative_val(x_vals)\n",
    "plt.ylim(ymax=8)\n",
    "plt.plot(x_vals, f_derivative_vals, color='m')"
   ]
  },
  {
   "cell_type": "markdown",
   "metadata": {},
   "source": [
    "#### Questions (1 point)\n",
    "1.) What is the main difference in the program structure between TensorFlow and plain Python? (0.5 point)\n",
    "\n",
    "...\n",
    "\n",
    "2.) Does TensorFlow provide numerical or automatic differentiation? What are advantages of this way of differentiation? (0.5 point)\n",
    "It uses automatic differentiation and decomposes complex expressions into constituent parts using chain rule. --> Advantage??\n"
   ]
  },
  {
   "cell_type": "markdown",
   "metadata": {},
   "source": [
    "## Submission instructions\n",
    "You should provide a single Jupyter notebook as a solution. The naming should include the assignment number and matriculation IDs of all team members in the following format:\n",
    "**assignment-1_matriculation1_matriculation_2_matriculation3.ipynb** (in case of 3 team members). \n",
    "Make sure to keep the order matriculation1_matriculation_2_matriculation3 the same for all assignments.\n",
    "\n",
    "Please, submit your solution to your tutor (with **[NNIA][assignment-2]** in email subject):\n",
    "1. Maksym Andriushchenko s8mmandr@stud.uni-saarland.de\n",
    "2. Marius Mosbach s9msmosb@stud.uni-saarland.de\n",
    "3. Rajarshi Biswas rbisw17@gmail.com\n",
    "4. Marimuthu Kalimuthu s8makali@stud.uni-saarland.de\n",
    "\n",
    "**If you are in a team, please submit only 1 solution to only 1 tutor.**"
   ]
  }
 ],
 "metadata": {
  "kernelspec": {
   "display_name": "Python 3",
   "language": "python",
   "name": "python3"
  },
  "language_info": {
   "codemirror_mode": {
    "name": "ipython",
    "version": 3
   },
   "file_extension": ".py",
   "mimetype": "text/x-python",
   "name": "python",
   "nbconvert_exporter": "python",
   "pygments_lexer": "ipython3",
   "version": "3.6.2"
  }
 },
 "nbformat": 4,
 "nbformat_minor": 2
}
