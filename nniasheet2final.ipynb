{
 "cells": [
  {
   "cell_type": "markdown",
   "metadata": {},
   "source": [
    "# Exercise Sheet 2: Linear Algebra and TensorFlow Basics (Deadline: 14 Nov 14:00)"
   ]
  },
  {
   "cell_type": "markdown",
   "metadata": {
    "collapsed": true
   },
   "source": [
    "# Linear Algebra (11 points)\n",
    "For theoretical tasks you are encouraged to write LaTeX. Jupyter notebooks support them simply by typing an expression between dollar signs or in the blocks like \\ begin{equation} \\ end{equation}.\n",
    "\n",
    "\n",
    "Alternatively, you can upload the solutions in the written form as images and paste them inside cells. But if you do this, make sure that the images have high quality, so we can read them without any problems."
   ]
  },
  {
   "cell_type": "markdown",
   "metadata": {},
   "source": [
    "### 1. Orthogonal vectors (1 point)\n",
    "Let $a, b$ be non-zero vectors in $R^n$. Show that $a^T b$ = 0 **if and only if** a and b are orthogonal vectors (i.e. angle between them equals $\\frac{\\pi}{2} + k \\pi$ radians).\n",
    "\n",
    "Hint: be careful to prove 2 directions: \n",
    "1.) $a^T b$ = 0 $\\implies$ orthogonality and 2.) orthogonality $\\implies$ $a^T b$ = 0.\n",
    "\n",
    "\n",
    "\n",
    "#### Direction 1: $a^T b$ = 0 $\\implies$ orthogonality\n",
    "\n",
    "$a^T b$ = 0\n",
    "\n",
    "$\\lVert \\mathbf{x} \\rVert_2 \\lVert \\mathbf{y} \\rVert_2 cos \\theta = 0 $ (Law of Cosines, see also Goodfellow 2.34)\n",
    "\n",
    "$cos \\theta = \\dfrac{0}{\\lVert \\mathbf{x} \\rVert_2 \\lVert \\mathbf{y} \\rVert_2} $\n",
    "\n",
    "$cos \\theta = 0 $\n",
    "\n",
    "$\\theta = \\frac{\\pi}{2} $\n",
    "\n",
    "a and b are thus orthogonal.\n",
    "\n",
    "\n",
    "#### Direction2: Orthogonality $\\implies$ $a^T b$ = 0.\n",
    "\n",
    "$a^T b = \\lVert \\mathbf{x} \\rVert_2 \\lVert \\mathbf{y} \\rVert_2 cos \\frac{\\pi}{2} $ (Law of Cosines, see also Goodfellow 2.34)\n",
    "\n",
    "$cos \\frac{\\pi}{2} = \\frac{a^T b}{\\lVert \\mathbf{x} \\rVert_2 \\lVert \\mathbf{y} \\rVert_2}$\n",
    "\n",
    "$0 = \\frac{a^T b}{\\lVert \\mathbf{x} \\rVert_2 \\lVert \\mathbf{y} \\rVert_2}$\n",
    "\n",
    "$a^T b = 0$\n",
    "\n",
    "### 2. Interpretation of matrix multiplication (2 points)\n",
    "Let \n",
    "$$\n",
    "A=\\begin{bmatrix} 2 & 4 \\\\ 4 & 2 \\\\ 2 & 0 \\end{bmatrix} \\ \\ \\ \\ \n",
    "B=\\begin{bmatrix} 0.6 & -0.8 \\\\ 0.8 & 0.6 \\end{bmatrix}\n",
    "$$\n",
    "a. Are the column vectors of B orthogonal? Orthonormal? Is B a rotation matrix? Justify your answers.(0.5 points)\n",
    "\n",
    "The column vectors are:\n",
    "\n",
    "Orthogonal because: $\\begin{bmatrix}0.6 \\\\ -0.8 \\end{bmatrix} \\cdot \\begin{bmatrix}0.8 \\\\ 0.6 \\end{bmatrix}$ = 0\n",
    "\n",
    "Orthonormal because it is orthogonal and a Unit vector: $ \\sqrt{(0.6)^2 + (0.8)^2} = 1 $ and $\\sqrt{(-0.8)^2 + (0.6)^2} = 1 $\n",
    "\n",
    "B is a rotation matrix because $ B^T = B^{-1} => \\begin{bmatrix} 0.6 & 0.8 \\\\ -0.8 & 0.6 \\end{bmatrix} = 1* \\begin{bmatrix} 0.6 & 0.8 \\\\ -0.8 & 0.6 \\end{bmatrix}$ with determinant being 1\n",
    "\n",
    "\n",
    "\n",
    "\n",
    "b. Calculate $A \\cdot B$. (0.5 points)\n",
    "\n",
    "$A \\cdot B = \\begin{bmatrix} 4.4 & 0.8 \\\\ 4 & -2 \\\\ 1.2 & -1.6 \\end{bmatrix}$\n",
    "\n",
    "\n",
    "c. What is the interpretation of a matrix multiplication, when the column vectors of B are orthonormal (you may want to draw a simple picture visualizing row vectors of A and column vectors of B, but you don't need to submit it)? (1 point)\n",
    "\n",
    "In the given example, B is an orthogonal matrix. As a consequence, $B^T B = B B^T = I$. Multiplying an orthogonal matrix by a vector, does not change its length or angles. --> No idea what they are after here or what it means for matrix times matrix multiplication. Was mir auffällt: Euclidian norm rows in A und rows in C ist identisch (Wurzel 20, Wurzel 20, 4). Was heißt das dann? Länge bleibt.\n",
    "\n",
    "\n",
    "### 3. Property of $X^T X$ matrix (1 point)\n",
    "Let $X \\in R^{m×n}$ be a matrix obtained by stacking all training vectors (also called \"design matrix\"), like in the lecture. Obviously, it can be an arbritrary matrix. However a covariance matrix $C = X^T X$ has some interesting properties, namely it is always a positive semidefinite matrix ($v^T Cv \\geq 0$ for all non-zero $v \\in R^n$). Prove this statement.\n",
    "\n",
    "$v^T Cv = v^t (\\frac{1}{n} \\sum\\limits_{i=1}^n (X_{i} - \\overline{X})(X_{i} - \\overline{X})^T) v$\n",
    "\n",
    "$= \\frac{1}{n} \\sum\\limits_{i=1}^n v^T (X_{i} - \\overline{X})(X_{i} - \\overline{X})^T) v$\n",
    "\n",
    "$= \\frac{1}{n} \\sum\\limits_{i=1}^n ((X_{i} - \\overline{X})^T v) ((X_{i} - \\overline{X})^T v))$ Term is scalar, i.e. equal to its own transpose, and $(AB)^T = B^T A^T$\n",
    "\n",
    "$= \\frac{1}{n} \\sum\\limits_{i=1}^n ((X_{i} - \\overline{X})^T v))^2$\n",
    "\n",
    "$\\geq 0$ \n",
    "\n",
    "=> C always semidefinite $\\square$\n",
    "\n",
    "Hint: $v^T C v$ can be represented as a squared norm of some vector.\n",
    "\n",
    "\n",
    "\n",
    "### 4. Eigendecomposition (4 points)\n",
    "Consider the following matrix:\n",
    "$$\n",
    "M=\\begin{bmatrix}\n",
    "    1 & -1 & 0 \\\\\n",
    "    -1 & 2 & -1 \\\\\n",
    "    0 & -1 & 1\n",
    "  \\end{bmatrix}\n",
    "$$\n",
    "Is the matrix M:\n",
    "\n",
    "a. Symmetric? What does it imply for its eigendecomposition? (0.5 points)\n",
    "\n",
    "b. Singular? What does it imply for its eigendecomposition? (0.5 points)\n",
    "\n",
    "c. Find the eigendecomposition of M (3 points).\n",
    "\n",
    "You can find the answer on the linked images: https://1drv.ms/f/s!Ajtq0PhQbQStmNx4Ei3dmo0NqGUmXA\n",
    "\n",
    "\n",
    "### 5. Rayleigh-Ritz principle (3 points)\n",
    "On the lecture we saw that the exact solution for decoding matrix D in PCA problem is a matrix that contains the $l$ eigenvectors corresponding to the largest eigenvalues of $X^T X$, where X is a design matrix. But where does it come from?\n",
    "\n",
    "If you want to see full derivation of PCA, you can find it in Deep Learning Book, chapter 2.12. In this exercise we would like to focus only on Raleigh-Ritz principle, which allows to solve optimization problems of type $min_{||v||_2 = 1} v^T C v$ or $max_{||v||_2 = 1} v^T C v$ using eigendecomposition of C.\n",
    "\n",
    "So prove that $min_{||v||_2 = 1} v^T C v = \\lambda_{min}$, where $\\lambda_{min}$ is the smallest eigenvalue of C. For which vector $v$ this minimum is attained? (the proof for $max_{||v||_2 = 1} v^T C v = \\lambda_{max}$ is analogous)."
   ]
  },
  {
   "cell_type": "markdown",
   "metadata": {},
   "source": [
    "# TensorFlow (9 points)\n",
    "\n",
    "### 1. A simple computational graph in Tensorflow (2 + 1 = 3 points)\n",
    "To get started with TensorFlow we ask you to specify a very simple computational graph of the function $f(x) = x^2 + 2x + 5$ and also taking its derivative.\n",
    "If you don't know how to proceed, please study the example given on the lecture and also the official TenorFlow starting guide: https://www.tensorflow.org/get_started/get_started.\n",
    "\n",
    "This exercise requires around 10 lines of code, it is simple enough. However, it is very important to understand the notion of computational graph. \n",
    "\n",
    "Actually, this simple example will be a backbone for all neural networks in the future. All what we will need is to specify first the forward pass (f), and then take derivatives with respect to parameters (x), in order to update them, so they minimize the loss function f. But we will come back to this in several weeks."
   ]
  },
  {
   "cell_type": "code",
   "execution_count": 16,
   "metadata": {},
   "outputs": [
    {
     "data": {
      "text/plain": [
       "[<matplotlib.lines.Line2D at 0x116ee88d0>]"
      ]
     },
     "execution_count": 16,
     "metadata": {},
     "output_type": "execute_result"
    },
    {
     "data": {
      "image/png": "[encoded data removed]",
      "text/plain": [
       "<matplotlib.figure.Figure at 0x117202908>"
      ]
     },
     "metadata": {},
     "output_type": "display_data"
    }
   ],
   "source": [
    "%matplotlib inline\n",
    "import tensorflow as tf\n",
    "import matplotlib.pyplot as plt\n",
    "\n",
    "\n",
    "### Define a simple comp. graph (note that all its components are special TensorFlow objects)\n",
    "# Specify an input x to the comp. graph\n",
    "\n",
    "x = tf.placeholder(tf.float32)\n",
    "\n",
    "# Specify f(x) = x^2 + 2x + 5 \n",
    "f = x ** 2 + 2 * x + 5\n",
    "\n",
    "# Take derivative of f with respect to x. That will be very important in the future, since you will only\n",
    "# need to specify forward pass of your neural network, and all derivatives will be determined automatically by \n",
    "# TensorFlow.\n",
    "\n",
    "#d = tf.gradients(f, x)\n",
    "d = 2 * x + 2\n",
    "\n",
    "### Execute the comp. graph\n",
    "# Create a TensorFlow session\n",
    "sess = tf.Session()\n",
    "\n",
    "# Evaluate the function value and its derivative for values from -10 to 10 with step 0.1\n",
    "f_values = sess.run(f, {x : [v/10 for v in range(-100,101)]})\n",
    "d_values = sess.run(d, {x : [v/10 for v in range(-100,101)]})\n",
    "#print(f_values)\n",
    "#print(d_values)\n",
    "\n",
    "# Evaluate values of f and its derivative based on a particular input x\n",
    "f_100 = sess.run(f, {x: 100})\n",
    "d_100 = sess.run(f, {x: 100})\n",
    "\n",
    "# Plot the function f (use matplotlib library)\n",
    "plt.plot(f_values)\n",
    "\n",
    "# Plot the derivative of the function f\n",
    "plt.plot(d_values)\n",
    "\n",
    "\n"
   ]
  },
  {
   "cell_type": "markdown",
   "metadata": {},
   "source": [
    "#### Tensorflow Questions:\n",
    "1.) In the exercise above x should be a TF placeholder, but f is a TF tensor. What is the difference between a placeholder and other tensors in computational graph? And how TF Variable differs from tensors? (0.5 point)\n",
    "\n",
    "A TF placeholder is a dummy node, i.e. an entry point to the computational graph for data to be provided later. Normal TF tensors just consist of a set of primitive values shaped into an array. TF variables are in-memory buffers containing tensors: Unlike tensors, they only hold values after being explicitly initialized.\n",
    "\n",
    "\n",
    "2.) What does tf.Session().run(...) accept as an argument and what does it return? What is the fundamental difference between these 2 types of objects? (0.5 point)\n",
    "\n",
    "tf.Session().run(...) accepts TF nodes and returns a value of the same shape: A single value if the argument was a single graph element, a list in case of a list, a dictionary with the same keys in case of a dictionary. The fundamental difference between before and after tf.Session().run(...) then is evaluation. The method is one step in an overall TF computation that runs the graph fragments necessary to excute every operation and to evaluate every tensor\n",
    "in the argument it receives."
   ]
  },
  {
   "cell_type": "markdown",
   "metadata": {},
   "source": [
    "### 2. A pure Python implementation (1 point)\n",
    "Please do the same, but in pure Python, calculating the expression for the derivative by hand. There is no need to use NumPy library, since we deal with 1-dimensional x (0.5 point). "
   ]
  },
  {
   "cell_type": "code",
   "execution_count": 160,
   "metadata": {},
   "outputs": [
    {
     "data": {
      "text/plain": [
       "[<matplotlib.lines.Line2D at 0x13a8d4940>]"
      ]
     },
     "execution_count": 160,
     "metadata": {},
     "output_type": "execute_result"
    },
    {
     "data": {
      "image/png": "[encoded data removed]",
      "text/plain": [
       "<matplotlib.figure.Figure at 0x139e5f4a8>"
      ]
     },
     "metadata": {},
     "output_type": "display_data"
    }
   ],
   "source": [
    "# Evaluate the function value and its derivative for values from -10 to 10 with step 0.1\n",
    "\n",
    "# Define f\n",
    "def f(x):\n",
    "    return x ** 2 + 2 * x + 5\n",
    "\n",
    "# Define f_derivative_val\n",
    "def f_derivative_val(x):\n",
    "    return 2 * x + 2 \n",
    "\n",
    "# Plot the function f\n",
    "f_vals = [f(v/10) for v in range(-100,101)]\n",
    "plt.plot(f_vals)\n",
    "\n",
    "# Plot the derivative of the function f\n",
    "f_derivative_vals = [f_derivative_val(v/10) for v in range(-100,101)]\n",
    "plt.plot(f_derivative_vals)"
   ]
  },
  {
   "cell_type": "markdown",
   "metadata": {},
   "source": [
    "### 3. A more complicated computational graph (5 points)\n",
    "Okay, you could easily take the derivative of $f(x) = x^2 + 2x + 5$ by hand. But what if you need to take the derivative of the function $f(x) = \\sigma(-6 \\sigma (x + 5 x^{-2} + 3 x^{-3}) + 2 \\sigma (-x + 4 x^{-2}))$ (where $\\sigma = \\frac{1}{1 + exp(-x)}$) with respect to x?\n",
    "It resembles a neural network much more than the previous example.\n",
    "Please, implement it in TensorFlow (0.5 point) and in pure Python (0.5 point) in the same way as before (but using new cells with the code below). \n",
    "\n",
    "Note that in pure Python implementation you will need to somehow overcome the numerical errors for small values of x (roughly from -0.1 to 0.1). You can just skip these values."
   ]
  },
  {
   "cell_type": "markdown",
   "metadata": {},
   "source": [
    "For pure Python implementation you will need to derive the derivative by hand (3 points). Please write down your derivation for the new $f(x)$ (you are encouraged to write LaTeX for them):\n",
    "\n",
    "The following variables are used to simplify the derivation and make everything more readable:\n",
    "$%a = (-6 \\sigma (x + 5 x^{-2} + 3 x^{-3})$\n",
    "$%b = 2 \\sigma (-x + 4 x^{-2}))$\n",
    "$%For the quotient we get after applying the quotient rule right at the beginning of the derivation:$ $%q = \\left(\\mathrm{e}^{-x}+1\\right)^2 $\n",
    "$%\\frac{df}{dx} = \\frac{(\\frac{df}{dx}[a+b] * (\\mathrm{e}^{-x}+1)) - ((a+b) * \\frac{df}{dx} [\\mathrm{e}^{-x}+1])} {q}$ \n",
    "$%=  \\frac{(\\frac{(-6 \\frac{df}{dx}[x + 5x^{-2} + 3x^{-3}] * (\\mathrm{e}^{-x}+1) - (x + 5x^{-2} + 3x^{-3}) * \\frac{df}{dx} [\\mathrm{e}^{-x}+1])}{q}) + (\\frac{(2 \\frac{df}{dx}[-x + 4x^{-2}] * (\\mathrm{e}^{-x}+1) - (-x + 4x^{-2}) * \\frac{df}{dx} [\\mathrm{e}^{-x}+1])}{q}) * (\\mathrm{e}^{-x}+1) - (\\mathrm{e}^{-x} * \\frac{df}{dx}[-x] + 0) * (a+b)} {q} $\n",
    "$%= \\frac{\\mathrm{e}^{-x} * (a+b) + (\\mathrm{e}^{-x} +1) * (-6*(\\frac{(\\frac{df}{dx}[x] + 5* \\frac{df}{dx}[x^{-2}] + 3* \\frac{df}{dx}[x^{-3}])*(\\mathrm{e}^{-x}+1)-(\\frac{df}{dx}[\\mathrm{e}^{-x}] + \\frac{df}{dx}[1]) * (x + 5x^{-2} + 3 x^{-3}))}{q}) + 2* (\\frac{((4 * \\frac{df}{dx}[x^{-2}] - \\frac{df}{dx}[x])*(\\mathrm{e}^{-x}+1)-(\\frac{df}{dx}[\\mathrm{e}^{-x}] + \\frac{df}{dx}[\\frac{df}{dx}[1]) * (4x^{-2} - x))}{q}))}{q} $\n",
    "$%= \\frac{\\mathrm{e}^{-x} * (a+b) + (\\mathrm{e}^{-x} +1) * (-6*(\\frac{(1 + 5* (-2) * x^{-3} + 3* (-3) * x^{-4})*(\\mathrm{e}^{-x} * (\\frac{df}{dx}[x] + 0) * (x + 5x^{-2} + 3 x^{-3}))}{q}) + 2 * (\\frac{(4 * (-2) * x^{-3} -1) * (\\mathrm{e}^{-x}+1)-(\\mathrm{e}^{-x} * \\frac{df}{dx}[-x] + 0) * (4x^{-2} - x))}{q}))}{q} $\n",
    "$%= \\frac{\\mathrm{e}^{-x} * (a+b) + (\\mathrm{e}^{-x} +1) * (-6*(\\frac{(-10x^{-3} - 9 x^{-4} + 1)*(\\mathrm{e}^{-x} +1) + (x + 5x^{-2} + 3 x^{-3}) * \\mathrm{e}^{-x}}{q}) + 2 * \\frac{((-8x^{-3} -1) * (\\mathrm{e}^{-x} +1) + (4x^{-2} - x) * \\mathrm{e}^{-x})}{q} }{q} $\n",
    "\n",
    "$ a = 2 \\sigma (-x + 4x^{-2})$\n",
    "\n",
    "$ b = -6 \\sigma (x + 5x^{-2} + 3x^{-3})$\n",
    "\n",
    "From this:\n",
    "\n",
    "$\\frac{d}{dx}[a] = 2(  \\frac{d}{dx}[\\sigma](-x + 4x^{-2}) * (-1-8x^{-3}) )$ | chain rule \n",
    "\n",
    "$\\frac{d}{dx}[b] = - 6(  \\frac{d}{dx}[\\sigma] (x + 5x^{-2} + 3x^{-3}) * (1-10x^{-3}-9x^{-4}) )$ | chain rule\n",
    "\n",
    "\n",
    "\n",
    "$\\frac{d}{dx}[\\sigma] = - \\frac{\\frac{d}{dx}[exp(-x)+1]}{(exp(-x)+1)^2}$ | Reciprocal rule \n",
    "\n",
    "$ = - \\frac{\\frac{d}{dx}[exp(-x)]+0}{(exp(-x)+1)^2}$\n",
    "\n",
    "$ = - \\frac{exp(-x)*\\frac{d}{dx}[-x]}{(exp(-x)+1)^2}$  | Chain rule\n",
    "\n",
    "$ = \\frac{exp(x)}{(exp(x)+1)^2}$\n",
    "\n",
    "\n",
    "\n",
    "\n",
    "Using these parts we get:\n",
    "\n",
    "$\\frac{df}{dx} = \\frac{d}{dx}[ \\sigma(a+b)](\\frac{d}{dx}[a+b])$\n",
    "\n",
    "$ = \\frac{d}{dx}[ \\sigma](a+b)(\\frac{d}{dx}[a]+\\frac{d}{dx}[b])$\n",
    "\n",
    "\n",
    "\n",
    "\n",
    "\n",
    "\n",
    "\n",
    "\n",
    "The derived expression for $\\frac{df}{dx}$ should produce exactly the same values (up to the float type precision) as TensorFlow derivative.\n",
    "\n"
   ]
  },
  {
   "cell_type": "code",
   "execution_count": 17,
   "metadata": {
    "scrolled": false
   },
   "outputs": [
    {
     "data": {
      "text/plain": [
       "[<matplotlib.lines.Line2D at 0x1177ca9b0>]"
      ]
     },
     "execution_count": 17,
     "metadata": {},
     "output_type": "execute_result"
    },
    {
     "data": {
      "image/png": "[encoded data removed]",
      "text/plain": [
       "<matplotlib.figure.Figure at 0x117b797f0>"
      ]
     },
     "metadata": {},
     "output_type": "display_data"
    }
   ],
   "source": [
    "import numpy as np\n",
    "%matplotlib inline\n",
    "import tensorflow as tf\n",
    "import matplotlib.pyplot as plt\n",
    "# Please paste the code from your above TensorFlow implementation, \n",
    "# but specify the new f(x) and produce the corresponding plots\n",
    "z = tf.placeholder(tf.float32)\n",
    "\n",
    "# Specify f(x)\n",
    "#First define sigmoid helper function:\n",
    "def sigmoid (x):\n",
    "    return 1/(1 + tf.exp(-x))\n",
    "\n",
    "f = sigmoid(-6* sigmoid(z + 5 * z ** -2 + 3 * z ** -3) + 2 * sigmoid(-z + 4 * z ** -2))\n",
    "\n",
    "# Take derivative of f with respect to x. That will be very important in the future, since you will only\n",
    "# need to specify forward pass of your neural network, and all derivatives will be determined automatically by \n",
    "# TensorFlow.\n",
    "\n",
    "d = tf.gradients(f,z)[0]\n",
    "\n",
    "### Execute the comp. graph\n",
    "# Create a TensorFlow session\n",
    "sess = tf.Session()\n",
    "\n",
    "# Evaluate the function value and its derivative for values from -10 to 10 with step 0.1\n",
    "x_vals = np.arange(-10, 10.01, 0.1)\n",
    "f_values = sess.run(f, feed_dict = {z: np.arange(-10, 10.01, 0.1)})\n",
    "d_values = sess.run(d, feed_dict = {z: np.arange(-10, 10.01, 0.1)})\n",
    "#print(f_values)\n",
    "#print(d_values)\n",
    "\n",
    "# Plot the function f (use matplotlib library)\n",
    "plt.plot(x_vals, f_values)\n",
    "# Plot the derivative of the function f\n",
    "plt.plot(x_vals, d_values, color='m')\n"
   ]
  },
  {
   "cell_type": "code",
   "execution_count": 19,
   "metadata": {},
   "outputs": [
    {
     "name": "stderr",
     "output_type": "stream",
     "text": [
      "/Users/mo/miniconda3/envs/nnia/lib/python3.6/site-packages/ipykernel_launcher.py:9: RuntimeWarning: overflow encountered in square\n",
      "  if __name__ == '__main__':\n"
     ]
    },
    {
     "data": {
      "text/plain": [
       "[<matplotlib.lines.Line2D at 0x117c14a58>]"
      ]
     },
     "execution_count": 19,
     "metadata": {},
     "output_type": "execute_result"
    },
    {
     "data": {
      "image/png": "[encoded data removed]",
      "text/plain": [
       "<matplotlib.figure.Figure at 0x117b1c0f0>"
      ]
     },
     "metadata": {},
     "output_type": "display_data"
    }
   ],
   "source": [
    "import numpy as np\n",
    "from math import e\n",
    "\n",
    "# Define f and f_derivative_val\n",
    "def sigmoid(x):\n",
    "    return 1/(1 + e**-x)\n",
    "\n",
    "def sigmoid_der(x):\n",
    "    return e**x/(((e**x)+1)**2)\n",
    "\n",
    "def f(z):\n",
    "    return sigmoid(-6* sigmoid(z + 5 * z ** -2 + 3 * z ** -3) + 2 * sigmoid(-z + 4 * z ** -2))\n",
    "    \n",
    "# Define f_derivative_val\n",
    "def f_derivative_val(x):\n",
    "\n",
    "    a = 2* sigmoid(-x+4*x**(-2))\n",
    "    b = -6 * (sigmoid(x+5*x**(-2)+3*x**(-3)))\n",
    "    \n",
    "    a_der = 2 * sigmoid_der(-x+4*x**(-2))*(- 1 - 8 * x**(-3))\n",
    "    b_der = -6 * (sigmoid_der(x+5*x**(-2)+3*x**(-3))) * (1-10 * x ** (-3) - 9*x**(-4))\n",
    "    \n",
    "    return sigmoid_der(a+b) * (a_der + b_der)\n",
    "\n",
    "# Plot the function f\n",
    "x_vals = np.append(np.arange(-10, -0.1, 0.1), np.arange(0.2, 10.01, 0.1))\n",
    "#print(x_vals)\n",
    "f_vals = f(x_vals)\n",
    "#print(f_vals)\n",
    "plt.plot(x_vals, f_vals, color='b')\n",
    "\n",
    "# Plot the derivative of the function f\n",
    "f_derivative_vals = f_derivative_val(x_vals)\n",
    "#plt.ylim(ymax=8)\n",
    "plt.plot(x_vals, f_derivative_vals, color='m')"
   ]
  },
  {
   "cell_type": "markdown",
   "metadata": {},
   "source": [
    "#### Questions (1 point)\n",
    "1.) What is the main difference in the program structure between TensorFlow and plain Python? (0.5 point)\n",
    "\n",
    "...\n",
    "\n",
    "2.) Does TensorFlow provide numerical or automatic differentiation? What are advantages of this way of differentiation? (0.5 point)\n",
    "It uses automatic differentiation and decomposes complex expressions into constituent parts using chain rule. --> Advantage??\n"
   ]
  },
  {
   "cell_type": "markdown",
   "metadata": {},
   "source": [
    "## Submission instructions\n",
    "You should provide a single Jupyter notebook as a solution. The naming should include the assignment number and matriculation IDs of all team members in the following format:\n",
    "**assignment-1_matriculation1_matriculation_2_matriculation3.ipynb** (in case of 3 team members). \n",
    "Make sure to keep the order matriculation1_matriculation_2_matriculation3 the same for all assignments.\n",
    "\n",
    "Please, submit your solution to your tutor (with **[NNIA][assignment-2]** in email subject):\n",
    "1. Maksym Andriushchenko s8mmandr@stud.uni-saarland.de\n",
    "2. Marius Mosbach s9msmosb@stud.uni-saarland.de\n",
    "3. Rajarshi Biswas rbisw17@gmail.com\n",
    "4. Marimuthu Kalimuthu s8makali@stud.uni-saarland.de\n",
    "\n",
    "**If you are in a team, please submit only 1 solution to only 1 tutor.**"
   ]
  }
 ],
 "metadata": {
  "kernelspec": {
   "display_name": "Python 3",
   "language": "python",
   "name": "python3"
  },
  "language_info": {
   "codemirror_mode": {
    "name": "ipython",
    "version": 3
   },
   "file_extension": ".py",
   "mimetype": "text/x-python",
   "name": "python",
   "nbconvert_exporter": "python",
   "pygments_lexer": "ipython3",
   "version": "3.6.2"
  }
 },
 "nbformat": 4,
 "nbformat_minor": 2
}
